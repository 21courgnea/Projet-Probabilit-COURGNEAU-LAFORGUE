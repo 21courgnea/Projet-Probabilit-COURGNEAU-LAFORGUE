{
 "cells": [
  {
   "cell_type": "markdown",
   "metadata": {},
   "source": [
    "# Projet numérique de probabilités \n",
    "\n",
    "## Préambule\n",
    "\n",
    "Dans ce projet, on va chercher à développer un algorithme permettant de générer des textures aléatoires reprenant certaines caractéristiques du mouvement brownien.\n",
    "Dans un premier temps, on va s'intéresser à construire le mouvement brownien en une dimension comme limite d'une marche aléatoire. On verra ensuite une construction alternative qui permettra de conserver certaines de ses propriétés puis on la généralisera à 2 dimensions.\n"
   ]
  },
  {
   "cell_type": "markdown",
   "metadata": {},
   "source": [
    "# Marche aléatoire\n",
    "\n",
    "Soit $(X_i)_{i\\in \\mathbb{N}^\\ast}$ une suite de variables aléatoires indépendantes telle que :\n",
    "\n",
    "$$\\mathbb{P}(X_i=x) = \\left\\{\\begin{array}{ll}\n",
    "\\frac{1}{2} & \\text{ si } x=1\\\\\n",
    "\\frac{1}{2} & \\text{ si } x=-1\\\\\n",
    "\\end{array}\\right.\n",
    "\\forall i\\geq 1$$\n",
    "\n",
    "On considère la suite $(Y_n)_{n \\in \\mathbb{N}}$, où $Y_0 = 0$ et \n",
    "$$Y_n=\\sum_{i=1}^{n}X_i$$\n"
   ]
  },
  {
   "cell_type": "markdown",
   "metadata": {},
   "source": [
    "1. Calculer l'espérance et la variance de $X_i$.\n",
    "2. En déduire l'espérance et la variance de $Y_n$.\n",
    "3. Montrer que $\\forall n \\in \\mathbb{N}$, $\\mathbb{P}_{Y_n|Y_{n-1} = y_{n-1}, \\ldots, Y_{0} = y_{0}} = \\mathbb{P}_{Y_n|Y_{n-1} = y_{n-1}}$. On dit que la suite $(Y_n)_{n \\in \\mathbb{N}}$ possède la propriété de Markov.\n",
    "4. Montrer que $\\mathrm{Cov}(Y_n,Y_{n'}) = \\min(n,n')$ puis que $\\frac12\\mathbb{E}\\left(Y_n-Y_{n+h}\\right)^2 = h/2$, pour $h>0$. Cette dernière quantité s'appelle le variogramme de $Y_n$ et peut s'interpréter comme une quantification de sa régularité.\n",
    "5. Utiliser le théorème central limite pour montrer que\n",
    "  $$\\frac{Y_n}{\\sqrt{n}}\\xrightarrow[n \\to \\infty]{\\mathcal{L}}\\mathcal{N}(0,1),$$\n"
   ]
  },
  {
   "cell_type": "markdown",
   "metadata": {},
   "source": [
    "**Réponse n° 1 :** \\\n",
    "On a directement l'espérance de $X_i$ :\n",
    "$$\n",
    "\\begin{align*}\n",
    "\\boxed{\\forall{i}\\ge1, \\;\\mathbb{E}(X_i) = 1\\times\\frac{1}{2} + (-1)\\times\\frac{1}{2} = 0}\n",
    "\\end{align*}\n",
    "$$\n",
    "\n",
    "Et sa variance s'obtient avec la formule de Koenig-Huygens : \n",
    "$$\n",
    "\\begin{align*}\n",
    "\\boxed{\\forall{i}\\ge1,\\;\\mathbb{V}(X_i) = \\mathbb{E}(X_i^2) - \\mathbb{E}(X_i)^2 = 1 }\n",
    "\\end{align*}\n",
    "$$"
   ]
  },
  {
   "cell_type": "markdown",
   "metadata": {},
   "source": [
    "**Réponse n° 2 :** \\\n",
    "Par linéarité de l'espérance on obtient :\n",
    "\n",
    "$$\n",
    "\\begin{align*}\n",
    "\\boxed{\\forall{n}\\ge1, \\mathbb{E}(Y_n) = \\sum_{i=1}^{n}\\mathbb{E}(X_i) = 0}\n",
    "\\end{align*}\n",
    "$$\n",
    "\n",
    "Par ailleurs, les $X_i$ étant indépendantes, on a : \n",
    "\n",
    "$\\forall{i \\ne j}, \\mathbb{V}(X_i + X_j) = \\mathbb{V}(X_i) + \\mathbb{V}(X_j) + 2\\mathbb{cov}(X_i, X_j) = \\mathbb{V}(X_i) + \\mathbb{V}(X_j)$\n",
    "\n",
    "Et donc : \n",
    "$$\n",
    "\\begin{align*}\n",
    "\\boxed{\\mathbb{V}(Y_n) = \\mathbb{V}(\\sum_{i=1}^{n}X_i) = \\sum_{i=1}^{n}\\mathbb{V}(X_i) = n}\n",
    "\\end{align*}\n",
    "$$\n"
   ]
  },
  {
   "cell_type": "markdown",
   "metadata": {},
   "source": [
    "**Réponse n° 3 :** \\\n",
    "Par une démonstration par récurrence sur $n \\in \\mathbb{N^*}$ .\n",
    "\n",
    "Initialisation : \\\n",
    "Pour $n=1$, on a directement le résultat vérifié.\n",
    "\n",
    "Hérédité : \\\n",
    "Supposons que la propriété est vérifiée jusqu'au rang $n\\in\\mathbb{N^*}$. \\\n",
    "$\\forall{i} \\in\\mathbb{N^*}$ tel que $1\\le i\\le n$, $\\mathbb{P}_{Y_i|Y_{i-1} = y_{i-1}, \\ldots, Y_{0} = y_{0}} = \\mathbb{P}_{Y_i|Y_{i-1} = y_{i-1}}$ \\\n",
    "Montrons qu'elle est encore vraie au rang $n+1$ :\n",
    "<!-- \n",
    "La preuve repose sur l'utilisation de la formule des probabilités composées, avec des évènements $(A_n)_{n\\in\\mathbb{N}}$ :\n",
    "\n",
    "$$\n",
    "\\forall n \\in \\mathbb{N}, \\; \\mathbb{P}(A_1\\cap\\cdots\\cap A_n) = \\mathbb{P}(A_1)\\times\\mathbb{P}_{A_1}(A_2)\\times\\mathbb{P}_{A_1\\cap A_2}(A_3)\\times\\cdots\\times\\mathbb{P}_{A_1\\cap\\cdots\\cap A_{n-1}}(A_n).\n",
    "$$\n",
    "\n",
    "Donc :\n",
    "$$\n",
    "\\mathbb{P}(A_{n+1}) = \\frac{\\mathbb{P}(A_1\\cap\\cdots\\cap A_{n+1})} {\\mathbb{P}(A_1)\\times\\mathbb{P}_{A_1}(A_2)\\times\\mathbb{P}_{A_1\\cap A_2}(A_3)\\times\\cdots\\times\\mathbb{P}_{A_1\\cap\\cdots\\cap A_{n}}(A_{n+1})}\n",
    "$$\n",
    "\n",
    "Ici on prend $A_i = (Y_i = y_i) = (\\sum_{i=1}^{n}X_i = y_i)$, donc: -->\n",
    "\n",
    "Tout d'abord, on a par indépendance des $(X_i)_{i\\in\\mathbb{N}}$: \n",
    "$$\n",
    "\\begin{align*}\n",
    "\\mathbb{P}(Y_1 = y_1\\cap\\cdots\\cap Y_{n+1}= y_{n+1}) &= \\mathbb{P}(X_1 = y_1, \\cap X_2 = y_2-y_1, \\cdots\\cap X_{n+1}= y_{n+1}-y_n) \\\\\n",
    "&= \\mathbb{P}(X_1=y_1)\\times\\mathbb{P}(X_2=y_2-y_1)\\cdots\\times\\mathbb{P}(X_{n+1}=y_{n+1}-y_n) \\\\\n",
    "\\end{align*}\n",
    "$$\n",
    "\n",
    "Par ailleurs, $\\mathbb{P}(Y_1=y_1)=\\mathbb{P}(X_1=y_1)$ et en utilisant l'hypothèse de récurrence : \n",
    "$$\n",
    "\\begin{align*}\n",
    "\\forall{i} \\in\\mathbb{N^*} , 1\\le i\\le n \\;, \\mathbb{P}_{Y_i|Y_{i-1} = y_{i-1}, \\ldots, Y_{0} = y_{0}} = \\mathbb{P}_{Y_i|Y_{i-1} = y_{i-1}} \\\\\n",
    "\\end{align*}\n",
    "$$\n",
    "donc :\n",
    "$$\n",
    "\\begin{align*}\n",
    "\\mathbb{P}_{Y_0=y_0, \\cdots, Y_{i-1}=y_{i-1}}(Y_i = y_i) &= \\mathbb{P}_{Y_{i-1}=y_{i-1}}(Y_i=y_i) \\\\\n",
    "&= \\mathbb{P}(X_i=y_i-y_{i-1})\n",
    "\\end{align*}\n",
    "$$\n",
    "Par la formule des probabilités composées : \n",
    "$$\n",
    "\\begin{align*}\n",
    "\\forall n \\in \\mathbb{N}, \\; \\mathbb{P}(Y_1\\cap\\cdots\\cap Y_n) = \\mathbb{P}(Y_1)\\times\\mathbb{P}_{Y_1}(A_2)\\times\\mathbb{P}_{Y_1\\cap Y_2}(Y_3)\\times\\cdots\\times\\mathbb{P}_{Y_1\\cap\\cdots\\cap Y_{n-1}}(Y_n).\n",
    "\\end{align*}\n",
    "$$\n",
    "donc :\n",
    "$$\n",
    "\\begin{align*}\n",
    "\\forall n \\in \\mathbb{N}, \\; \\mathbb{P}(Y_{n+1}) = \\frac{\\mathbb{P}(Y_1\\cap\\cdots\\cap Y_{n+1})} {\\mathbb{P}(Y_1)\\times\\mathbb{P}_{Y_1}(Y_2)\\times\\mathbb{P}_{Y_1\\cap Y_2}(Y_3)\\times\\cdots\\times\\mathbb{P}_{Y_1\\cap\\cdots\\cap Y_{n-1}}(Y_{n})}\n",
    "\\end{align*}\n",
    "$$\n",
    "et on obtient finalement : \n",
    "$$\n",
    "\\begin{align*}\n",
    "\\mathbb{P}(Y_{n+1}=y_{n+1}) &= \\frac{\\mathbb{P}(X_1=y_1)\\times\\mathbb{P}(X_2=y_2-y_1)\\cdots\\times\\mathbb{P}(X_{n+1}=y_{n+1}-y_n)} {\\mathbb{P}(Y_1=y_1)\\times\\mathbb{P}(X_2=y_2-y_1)\\cdots\\times\\mathbb{P}(X_n=y_n-y_{n-1})} \\\\\n",
    "&= \\mathbb{P}(X_{n+1}=y_{n+1}-y_n) \\\\\n",
    "&= \\mathbb{P}_{Y_{n+1}|Y_n=y_n}(y_{n+1})\n",
    "\\end{align*}\n",
    "$$\n",
    "La récurrence étant achevée, on a : \n",
    "$$\n",
    "\\begin{align*}\n",
    "\\boxed{\\forall n \\in \\mathbb{N}, \\mathbb{P}_{Y_n|Y_{n-1} = y_{n-1}, \\ldots, Y_{0} = y_{0}} = \\mathbb{P}_{Y_n|Y_{n-1} = y_{n-1}}}\n",
    "\\end{align*}\n",
    "$$"
   ]
  },
  {
   "cell_type": "markdown",
   "metadata": {},
   "source": [
    "**Réponse n° 4 :** \\\n",
    "Tout d'abord on a :\n",
    "\n",
    "$\\mathrm{Cov}(Y_n,Y_{n'}) = \\mathbb{E}(Y_nY_{n'}) - \\mathbb{E}(Y_n)\\mathbb{E}(Y_{n'}) = \\mathbb{E}(Y_nY_{n'})$ , car $\\mathbb{E}(Y_n) = \\mathbb{E}(Y_{n'}) = 0  \\; (1)$\n",
    "\n",
    "Ensuite :\n",
    "\n",
    "$Y_nY_{n'} = (\\sum_{i=1}^{n}X_i)(\\sum_{i=1}^{n'}X_i) = \\sum_{i=1}^{\\min(n,n')}X_i^2 + \\sum_{(i,j) \\in E}X_iX_j $ avec E un ensemble de couple $(i,j)$ tels que $ i\\neq j $, cet ensemble est le fruit de tous les produits croisés.\n",
    "\n",
    "Comme par indépendance de $X_i $ et $ X_j$ :\n",
    "\n",
    "$\\forall{(i, j)}$,  $i \\neq j , \\mathbb{E}(X_iX_j) = \\mathbb{E}(X_i)\\mathbb{E}(X_j) = 0 $\n",
    "\n",
    "En reprenant l'expression initiale de la covariance $(1)$ et par linéarité de l'espérance :\n",
    "\n",
    "$\\mathrm{Cov}(Y_n,Y_{n'}) = \\sum_{i=1}^{\\min(n,n')}\\mathbb{E}(X_i^2) = \\sum_{i=1}^{\\min(n,n')}\\mathbb{V}(X_i) = \\min(n,n') \\times \\mathbb{V}(X_1)$\n",
    "\n",
    "Donc finalement comme $\\forall{i} \\in \\mathbb{N^*}, \\;\\mathbb{V}(X_i) = 1$ on a :\n",
    "$$\n",
    "\\boxed{\\mathrm{Cov}(Y_n,Y_{n'}) = \\min(n,n')}\n",
    "$$\n",
    "\n",
    "\n",
    "\n",
    "Ensuite on a :\n",
    "$$\n",
    "\\begin{align*}\n",
    "(Y_n-Y_{n+h}) = - \\sum_{i=n+1}^{n+h}X_i \\\\\n",
    "(Y_n-Y_{n+h})^2 = \\sum_{i=n+1}^{n+h}X_i^2 + \\sum_{(i,j) \\in E} X_iX_j \n",
    "\\end{align*}\n",
    "$$\n",
    "*Avec E un ensemble de couple $(i,j)$ tels que $ i\\neq j $, cet ensemble est le fruit de tous les produits croisés.*\n",
    "\n",
    "Comme précédemment, par indépendance de $X_i $ et $ X_j$ :\n",
    "$\\forall{(i, j)}$,  $i \\neq j , \\mathbb{E}(X_iX_j) = \\mathbb{E}(X_i)\\mathbb{E}(X_j) = 0 $\n",
    "\n",
    "donc :\n",
    "\n",
    "$$\n",
    "\\mathbb{E}(Y_n-Y_{n+h})^2 = \\sum_{i=n+1}^{n+h}\\mathbb{E}(X_i^2) = \\sum_{i=n+1}^{n+h} 1 = n+h - (n-1) - 1 = h\n",
    "$$\n",
    "\n",
    "et finalement :\n",
    "$$\n",
    "\\boxed{\\frac12\\mathbb{E}\\left(Y_n-Y_{n+h}\\right)^2 = h/2}\n",
    "$$"
   ]
  },
  {
   "cell_type": "markdown",
   "metadata": {},
   "source": [
    "**Réponse n° 5 :** \\"
   ]
  },
  {
   "cell_type": "code",
   "execution_count": 2,
   "metadata": {},
   "outputs": [
    {
     "name": "stdout",
     "output_type": "stream",
     "text": [
      "Populating the interactive namespace from numpy and matplotlib\n"
     ]
    }
   ],
   "source": [
    "# chargement de dépendances\n",
    "%pylab inline\n",
    "import scipy.stats as sps\n",
    "import numpy as np\n",
    "import matplotlib.pyplot as plt\n"
   ]
  },
  {
   "cell_type": "code",
   "execution_count": 3,
   "metadata": {},
   "outputs": [],
   "source": [
    "# Initialisation de la graine\n",
    "np.random.seed(1234)"
   ]
  },
  {
   "cell_type": "markdown",
   "metadata": {},
   "source": [
    "# Comportement asymptotique\n",
    "\n",
    "On introduit maintenant $t_i=\\frac{i}{n}, i=0,\\ldots,n$ et\n",
    "$$Z^{(n)}_t= \\frac{Y_{[nt]}}{\\sqrt{n}}, t\\in[0,1],$$\n",
    "où $[\\cdot]$ est la partie entière.\n",
    "\n",
    "1. Montrer que $\\bigcup_{i=0}^{n-1}(t_i,t_{i+1}]$ forme une partition de $(0,1]$.\n",
    "\n",
    "2. Montrer que $Z^{(n)}_t=Z^{(n)}_{t_i}$ pour $i=[nt]$.\n",
    "\n",
    "3. Par conséquent, $Z^{(n)}_t, t\\in[0,1]$ est bien défini $\\forall t \\in [0,1]$. Implémenter un algorithme pour simuler $Z^{(n)}_t$ aux points $t_i,~ i \\in\\{0,\\ldots,n\\}$. Représenter une trajectoire pour $n$=1000.\n",
    "\n"
   ]
  },
  {
   "cell_type": "markdown",
   "metadata": {},
   "source": [
    "**Réponse n° 1 :** \n",
    "\n",
    "$\\bigcup_{i=0}^{n-1}(t_i,t_{i+1}] = (t_0, t_1] \\cup (t_1, t_2]... \\cup \\ (t_{n-1}, t_n]$ avec $t_0 = 0 $ et $ t_n = 1$  \n",
    "\n",
    "Donc $\\bigcup_{i=0}^{n-1}(t_i,t_{i+1}] = (0,1]$  \n",
    "  \n",
    "De plus, les $ (t_i,t_{i+1}] $ étant par ailleurs disjoints on a que :\n",
    "\n",
    "$$\\boxed{\\bigcup_{i=0}^{n-1}(t_i,t_{i+1}] \\text{ forme une partition de } (0,1]}$$\n"
   ]
  },
  {
   "cell_type": "markdown",
   "metadata": {},
   "source": [
    "**Réponse n° 2 :** \n",
    "\n",
    "$Z^{(n)}_{t_i} = \\frac{Y_{[nt_i]}}{\\sqrt{n}} = \\frac{Y_{[i]}}{\\sqrt{n}}$  par définition de $t_i$.\n",
    "\n",
    "Puis $\\frac{Y_{[i]}}{\\sqrt{n}} = \\frac{Y_{[nt]}}{\\sqrt{n}}$ comme $i=[nt]$  \n",
    "\n",
    "Donc $$\\boxed{Z^{(n)}_{t_i} =Z^{(n)}_{t}}$$"
   ]
  },
  {
   "cell_type": "markdown",
   "metadata": {},
   "source": [
    "**Réponse n° 3 :** "
   ]
  },
  {
   "cell_type": "code",
   "execution_count": 30,
   "metadata": {},
   "outputs": [],
   "source": [
    "def Z_t(n) :\n",
    "    list_Z_n = [0]\n",
    "    U = sps.uniform.rvs(size=n)\n",
    "    Y = 0 \n",
    "    for u in U:\n",
    "        if u < 0.5:\n",
    "            Y += 1\n",
    "        else :\n",
    "            Y-=1\n",
    "        list_Z_n.append(Y/np.sqrt(n))\n",
    "    return list_Z_n\n",
    "    "
   ]
  },
  {
   "cell_type": "code",
   "execution_count": 31,
   "metadata": {},
   "outputs": [
    {
     "data": {
      "text/plain": [
       "<matplotlib.legend.Legend at 0x173c2007d00>"
      ]
     },
     "execution_count": 31,
     "metadata": {},
     "output_type": "execute_result"
    },
    {
     "data": {
      "image/png": "[encoded data removed]",
      "text/plain": [
       "<Figure size 432x288 with 1 Axes>"
      ]
     },
     "metadata": {
      "needs_background": "light"
     },
     "output_type": "display_data"
    }
   ],
   "source": [
    "n=1000\n",
    "plt.plot([i/n for i in range(n)], Z_t(n)[:-1], label = \"Trajectoire de $Z_t^{(1000)}}$\")\n",
    "plt.tick_params(top=True,right=True,direction='in')\n",
    "plt.grid(linestyle='--',alpha=0.5)\n",
    "plt.xlabel(\"$t_i$\")\n",
    "plt.legend()"
   ]
  },
  {
   "cell_type": "markdown",
   "metadata": {},
   "source": [
    "4. Montrer que $Z^{(n)}_t\\xrightarrow[n \\to \\infty]{\\mathcal{L}}\\mathcal{N}(0,t),~\\forall t \\in [0,1]$, en déduire la loi de $Z^{(n)}_1=\\frac{Y_n}{\\sqrt{n}}$ quand $n$\n",
    "  tend vers l'infini.\n",
    "  Construire un échantillon de taille 1000 de valeurs de $Z^{(n)}_1$ pour n = 1000. Représenter son histogramme et le comparer avec la densité gaussienne standard.\n",
    "\n"
   ]
  },
  {
   "cell_type": "markdown",
   "metadata": {},
   "source": [
    "**Réponse n° 4 :** \n",
    "\n",
    "Soit $t \\in [0,1]$  \n",
    "$Z^{(n)}_t = \\frac{Y_{[nt]}}{\\sqrt{n}} = \\frac{1}{\\sqrt{n}}\\sum_{i=1}^{[nt]}X_i = \\sum_{i=1}^{[nt]}\\frac{X_i}{\\sqrt{n}}  $  \n",
    "\n",
    "  \n",
    "Posons $S_n$ la somme des $X_i$, variables indépendantes, de même loi et de carré intégrable, d'espérance 0 et de variance 1.  \n",
    "\n",
    "Par le théorème centrale limite : \n",
    "$ \\frac{S_{[nt]}}{\\sqrt{[nt]}} $ converge en loi vers $\\mathcal{N}(0,1)$\n"
   ]
  },
  {
   "cell_type": "code",
   "execution_count": 32,
   "metadata": {},
   "outputs": [
    {
     "data": {
      "text/plain": [
       "<matplotlib.legend.Legend at 0x173c0cde0a0>"
      ]
     },
     "execution_count": 32,
     "metadata": {},
     "output_type": "execute_result"
    },
    {
     "data": {
      "image/png": "[encoded data removed]",
      "text/plain": [
       "<Figure size 432x288 with 1 Axes>"
      ]
     },
     "metadata": {
      "needs_background": "light"
     },
     "output_type": "display_data"
    }
   ],
   "source": [
    "length = 1000\n",
    "n = 1000\n",
    "\n",
    "def simulation_Z_1(length, n):\n",
    "    list_Z_1 = [0]\n",
    "    for k in range(length):\n",
    "        U = sps.uniform.rvs(size=n)\n",
    "        Y = 0 \n",
    "        for u in U:\n",
    "            if u < 0.5:\n",
    "                Y += 1\n",
    "            else :\n",
    "                Y-=1\n",
    "        list_Z_1.append(Y/np.sqrt(n))\n",
    "    return list_Z_1\n",
    "\n",
    "list_Z_1 = simulation_Z_1(length, n)\n",
    "plt.hist(list_Z_1, bins=50, density=True, alpha=0.5, label = \"Simulé\")\n",
    "interval = np.linspace(min(list_Z_1), max(list_Z_1), 100)\n",
    "plt.plot(interval, sps.norm.pdf(interval), 'g', lw=3, label=\"Théorie\")\n",
    "plt.tick_params(top=True,right=True,direction='in')\n",
    "plt.grid(linestyle='--',alpha=0.5)\n",
    "plt.legend()"
   ]
  },
  {
   "cell_type": "markdown",
   "metadata": {},
   "source": [
    "**Analyse :** \\\n",
    "On remarque, grâce à la simulation que $Z^{(n)}_t\\xrightarrow[n \\to \\infty]{\\mathcal{L}}\\mathcal{N}(0,t),~\\forall t \\in [0,1]$. En effet, si l'on augmente $n$, la courbe simulée se rapproche de la courbe théorique correspondant à une loi normale centrée. Comme dans le cas de la simulation, $t = 1$, on retrouve que $Z^{(n)}_1\\xrightarrow[n \\to \\infty]{\\mathcal{L}}\\mathcal{N}(0,1)$ qui correspond à une loi normale centrée réduite.\n",
    "\n"
   ]
  },
  {
   "cell_type": "markdown",
   "metadata": {},
   "source": [
    "**Remarque**\n",
    "\n",
    "${\\bf Z}_t=\\lim_{n \\to \\infty} Z^{(n)}_t$ est le mouvement brownien standard sur $[0,1]$. \n"
   ]
  },
  {
   "cell_type": "markdown",
   "metadata": {},
   "source": [
    "# Une construction alternative\n",
    "\n",
    "On considère maintenant la construction suivante, définie pour tout $t \\in [0,1]$:\n",
    "$$\\tilde{Z}^{(n)}_t = \\frac{1}{\\sqrt{n}}\\sum_{i=1}^n X_i (1_{[0,U_i]}(t)-1_{]U_i,1]}(t))$$\n",
    "où les $X_i$ sont définis tels que précédemment et les $U_i$ sont des variables aléatoires i.i.d. de loi uniforme sur $[0,1]$.\n",
    "Cette construction permet de définir un algorithme alternatif de simulation d'une (approximation de) trajectoire brownienne, cette fois-ci non standard au sens où on n'a pas systématiquement $\\tilde{Z}^{(n)}_0 = 0$.\n",
    "\n",
    "1. Discrétiser l'intervalle $[0,1]$ en 1000 points de manière régulière et implémenter l'algorithme (commencer par n = 1). Représenter une trajectoire pour $n = 1000$."
   ]
  },
  {
   "cell_type": "markdown",
   "metadata": {},
   "source": [
    "**Réponse n° 1 :**"
   ]
  },
  {
   "cell_type": "code",
   "execution_count": 43,
   "metadata": {},
   "outputs": [],
   "source": [
    "n=1000\n",
    "interval = np.linspace(0,1,n)\n",
    "\n",
    "def Ztilde_t(n, interval):\n",
    "    list_Ztilde_t  =[]\n",
    "    ztilde = 0\n",
    "    for i in interval:\n",
    "        x = sps.bernoulli.rvs(1/2)\n",
    "        if x == 0 :\n",
    "            x = -1\n",
    "        u = sps.uniform.rvs()\n",
    "        ztilde += x*(1*(i <= u ) - 1*(i > u))\n",
    "        list_Ztilde_t.append(ztilde/np.sqrt(n))\n",
    "    return list_Ztilde_t\n",
    "    \n"
   ]
  },
  {
   "cell_type": "code",
   "execution_count": 45,
   "metadata": {},
   "outputs": [
    {
     "data": {
      "text/plain": [
       "<matplotlib.legend.Legend at 0x173c2395be0>"
      ]
     },
     "execution_count": 45,
     "metadata": {},
     "output_type": "execute_result"
    },
    {
     "data": {
      "image/png": "[encoded data removed]",
      "text/plain": [
       "<Figure size 432x288 with 1 Axes>"
      ]
     },
     "metadata": {
      "needs_background": "light"
     },
     "output_type": "display_data"
    }
   ],
   "source": [
    "n=1000\n",
    "plt.plot(interval, Ztilde_t(n, interval), label = \"Trajectoire de $\\overset{~}{Z}_t^{(1000)}}$\")\n",
    "plt.tick_params(top=True,right=True,direction='in')\n",
    "plt.grid(linestyle='--',alpha=0.5)\n",
    "plt.xlabel(\"$t_i$\")\n",
    "plt.legend()"
   ]
  },
  {
   "cell_type": "markdown",
   "metadata": {},
   "source": [
    "2. Calculer l'espérance et la variance de $\\tilde{Z}^{(n)}_t$. En déduire que $\\forall t \\in [0,1],~ \\tilde{Z}^{(n)}_t\\xrightarrow[n \\to \\infty]{\\mathcal{L}}\\mathcal{N}(0,1)$. Le vérifier expérimentalement aux points $\\{0,0.25,0.5,0.75,1\\}$ sur la base d'un échantillon de 1000 réalisations de $\\tilde{Z}^{(n)}$."
   ]
  },
  {
   "cell_type": "markdown",
   "metadata": {},
   "source": [
    "**Réponse n° 2 :**\n",
    "$$\n",
    "\\mathbb{E}(\\tilde{Z}^{(n)}_t) = \\frac{1}{\\sqrt{n}}\\sum_{i=1}^n \\mathbb{E}(X_i (1_{[0,U_i]}(t)-1_{]U_i,1]}(t)))\n",
    "$$\n",
    "Or par linéarité puis indépendance des $X_i$ et des $U_i$:\n",
    "\n",
    "$$\n",
    "\\begin{align*}\n",
    "\\forall{i}, \\; \\mathbb{E}(X_i (1_{[0,U_i]}(t)-1_{]U_i,1]}(t)) &= \\mathbb{E}(X_i)\\times \\mathbb{E}(1_{[0,U_i]}(t)) \n",
    "- \\mathbb{E}(X_i)\\times\\mathbb{E}(1_{]U_i,1]}(t)) \\\\\n",
    "&= 0\n",
    "\\end{align*} \n",
    "$$\n",
    "\n",
    "D'où\n",
    "$$\\boxed{\\mathbb{E}(\\tilde{Z}^{(n)}_t) = 0}\n",
    "$$\n",
    "\n",
    "Et de même par indépendance des variables:\n",
    "$$\n",
    "\\mathbb{V}(\\tilde{Z}^{(n)}_t) = \\frac{1}{n}\\sum_{i=1}^n \\mathbb{V}(X_i 1_{[0,U_i]}(t)- X_i 1_{]U_i,1]}(t))\n",
    "$$"
   ]
  },
  {
   "cell_type": "code",
   "execution_count": 50,
   "metadata": {},
   "outputs": [],
   "source": [
    "def simulation_Ztilde(length, n, interval):\n",
    "    list_Ztilde = []\n",
    "    for k in range(length):\n",
    "        ztilde = 0\n",
    "        for i in interval:\n",
    "            x = sps.bernoulli.rvs(1/2)\n",
    "            if x == 0 :\n",
    "                x = -1\n",
    "            u = sps.uniform.rvs()\n",
    "            ztilde += x*(1*(i <= u ) - 1*(i > u))\n",
    "        list_Ztilde.append(ztilde/np.sqrt(n))\n",
    "    return list_Ztilde"
   ]
  },
  {
   "cell_type": "code",
   "execution_count": 51,
   "metadata": {},
   "outputs": [
    {
     "data": {
      "text/plain": [
       "<matplotlib.legend.Legend at 0x173c239a640>"
      ]
     },
     "execution_count": 51,
     "metadata": {},
     "output_type": "execute_result"
    },
    {
     "data": {
      "image/png": "[encoded data removed]",
      "text/plain": [
       "<Figure size 432x288 with 1 Axes>"
      ]
     },
     "metadata": {
      "needs_background": "light"
     },
     "output_type": "display_data"
    }
   ],
   "source": [
    "length = 1000\n",
    "n = 1000\n",
    "interval = np.linspace(0,1,n)\n",
    "\n",
    "list_Ztilde = simulation_Ztilde(length, n, interval)\n",
    "plt.hist(list_Ztilde, bins=50, density=True, alpha=0.5, label = \"Simulé\")\n",
    "interval = np.linspace(min(list_Ztilde), max(list_Ztilde), 100)\n",
    "plt.plot(interval, sps.norm.pdf(interval), 'g', lw=3, label=\"Théorie\")\n",
    "plt.tick_params(top=True,right=True,direction='in')\n",
    "plt.grid(linestyle='--',alpha=0.5)\n",
    "plt.legend()"
   ]
  },
  {
   "cell_type": "markdown",
   "metadata": {},
   "source": [
    "3. Montrer que $\\frac12\\mathbb{E}\\left(\\tilde{Z}^{(n)}_t-\\tilde{Z}^{(n)}_{t+h}\\right)^2 = h$ pour $h>0$ et tel que $t+h \\leq 1$.\n",
    "\n",
    "4. Le vérifier expérimentalement en calculant $\\frac1{2\\text{card}\\{(i,j),|t_i-t_j|=h\\}}\\sum_{|t_i-t_j|=h}(\\tilde{Z}^{n}_{t_i} - \\tilde{Z}^{n}_{t_j})^2$, où $\\text{card}\\{(i,j),|t_i-t_j|=h\\}$ représente le nombre de couples $(t_i,t_j)$ distants de $h$, pour $h \\in \\{0.001,0.002,\\ldots,0.3\\}$. Représenter graphiquement cette quantité."
   ]
  },
  {
   "cell_type": "code",
   "execution_count": null,
   "metadata": {},
   "outputs": [],
   "source": []
  },
  {
   "cell_type": "markdown",
   "metadata": {},
   "source": [
    "5. Décrire les différences et les similarités entre les deux approches."
   ]
  },
  {
   "cell_type": "markdown",
   "metadata": {},
   "source": [
    "# Génération de texture\n",
    "\n",
    "L'algorithme précédent présente la propriété d'être aisément généralisable aux dimensions supérieures, contrairement au premier. Nous allons maintenant construire pas à pas un algorithme pour simuler selon ce modèle sur le domaine $[-1, 1]^2$. Comme dans le cas 1D, on va procéder par séparations aléatoires du domaine. Pour ce faire, nous allons simuler des droites aléatoires, avec la paramétrisation suivante :\n",
    "$$x \\cos(\\alpha) + y \\sin(\\alpha) = p,$$\n",
    "où $x,y \\in [0,1]$ sont les coordonnées, $\\alpha \\sim \\mathcal{U}_{[0,\\pi]}$ est la variable d'*orientation*, $p \\sim \\mathcal{U}_{[-\\sqrt{2},\\sqrt{2}]}$ est la variable de *position*.\n",
    "\n",
    "1. Représenter 10 droites aléatoires sur le domaine $[-1, 1]^2$."
   ]
  },
  {
   "cell_type": "code",
   "execution_count": null,
   "metadata": {},
   "outputs": [],
   "source": []
  },
  {
   "cell_type": "markdown",
   "metadata": {},
   "source": [
    "2. L'étape suivante consiste à attribuer une valeur +1 ou -1 à chaque partie du domaine, délimitées par une droite aléatoire. Générer une droite aléatoire, puis assigner une valeur aléatoire +1 ou -1 en tous points d'une grille régulière de discrétisation du domaine $[-1,1]^2$ de dimensions 200x200 (voir **np.meshgrid** et **plt.pcolormesh**)."
   ]
  },
  {
   "cell_type": "code",
   "execution_count": null,
   "metadata": {},
   "outputs": [],
   "source": []
  },
  {
   "cell_type": "markdown",
   "metadata": {},
   "source": [
    "3. Combiner les résultats des deux questions précédentes pour générer une réalisation de $\\tilde{Z}$ sur $[-1,1]^2$ pour $n = 100, 1000$ et $10000$ sur la même grille de discrétisation. Commenter. "
   ]
  },
  {
   "cell_type": "code",
   "execution_count": null,
   "metadata": {},
   "outputs": [],
   "source": []
  },
  {
   "cell_type": "markdown",
   "metadata": {},
   "source": [
    "4. Calculer $\\frac1{2\\text{card}\\{(i,j),|t_i-t_j|=h\\}}\\sum_{|t_i-t_j|=h}(\\tilde{Z}^{n}_{t_i} - \\tilde{Z}^{n}_{t_j})^2$ pour $h \\in \\{0.001,0.002,\\ldots,0.3\\}$ le long des axes verticaux et horizontaux. Tracer le graphique correspondant. Commenter."
   ]
  },
  {
   "cell_type": "code",
   "execution_count": null,
   "metadata": {},
   "outputs": [],
   "source": []
  },
  {
   "cell_type": "markdown",
   "metadata": {},
   "source": [
    "5. Générer une réalisation de $\\tilde{Z}$ sur $[-10,10]^2$. On prendra soin de modifier la loi des paramètres des droites aléatoires en conséquence. Commenter. "
   ]
  },
  {
   "cell_type": "code",
   "execution_count": null,
   "metadata": {},
   "outputs": [],
   "source": []
  },
  {
   "cell_type": "markdown",
   "metadata": {},
   "source": [
    "6. Une généralisation à deux dimensions d'une discrétisation du mouvement brownien standard peut être définie de la manière suivante : notant $(x_i,y_i)$ les coordonnées des points de la grille de discrétisation du domaine $[0,1]^2$, le vecteur formé des $Z_{(x_i,y_i)}$ est gaussien, centré et de covariance $\\text{Cov} = \\min(x_i,x_j) \\times \\min(y_i,y_j)$. Proposer et implémenter un algorithme de simulation de ce modèle sur une grille régulière de discrétisation du domaine $[0,1]^2$. Quelles difficultés rencontrez-vous ?"
   ]
  },
  {
   "cell_type": "code",
   "execution_count": null,
   "metadata": {},
   "outputs": [],
   "source": []
  }
 ],
 "metadata": {
  "@webio": {
   "lastCommId": "5ceb69a5bbd14071b254c2439a58ac4b",
   "lastKernelId": "0e923419-c540-42c1-ab5f-d0e05ff4521c"
  },
  "interpreter": {
   "hash": "f522921533d2649179f334ac53b5b066697b613ca03abe8a39e886b5049f2d92"
  },
  "kernelspec": {
   "display_name": "Python 3.8.6 64-bit",
   "name": "python3"
  },
  "language_info": {
   "codemirror_mode": {
    "name": "ipython",
    "version": 3
   },
   "file_extension": ".py",
   "mimetype": "text/x-python",
   "name": "python",
   "nbconvert_exporter": "python",
   "pygments_lexer": "ipython3",
   "version": "3.9.5"
  }
 },
 "nbformat": 4,
 "nbformat_minor": 2
}
